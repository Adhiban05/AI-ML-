{
  "nbformat": 4,
  "nbformat_minor": 0,
  "metadata": {
    "colab": {
      "provenance": []
    },
    "kernelspec": {
      "name": "python3",
      "display_name": "Python 3"
    },
    "language_info": {
      "name": "python"
    }
  },
  "cells": [
    {
      "cell_type": "code",
      "execution_count": 1,
      "metadata": {
        "colab": {
          "base_uri": "https://localhost:8080/"
        },
        "id": "SpO8hWYNQRpk",
        "outputId": "37e1ebc5-d829-4648-be9d-07a17756b24e"
      },
      "outputs": [
        {
          "output_type": "stream",
          "name": "stdout",
          "text": [
            "Gradient Boosting Classifier accuracy is : 0.98\n"
          ]
        }
      ],
      "source": [
        "# Import models and utility functions\n",
        "from sklearn.ensemble import GradientBoostingClassifier\n",
        "from sklearn.model_selection import train_test_split\n",
        "from sklearn.metrics import accuracy_score\n",
        "from sklearn.datasets import load_digits\n",
        "\n",
        "# Setting SEED for reproducibility\n",
        "SEED = 23\n",
        "\n",
        "# Importing the dataset\n",
        "X, y = load_digits(return_X_y=True)\n",
        "\n",
        "# Splitting dataset\n",
        "train_X, test_X, train_y, test_y = train_test_split(X, y,\n",
        "\t\t\t\t\t\t\t\t\t\t\t\t\ttest_size = 0.25,\n",
        "\t\t\t\t\t\t\t\t\t\t\t\t\trandom_state = SEED)\n",
        "\n",
        "# Instantiate Gradient Boosting Regressor\n",
        "gbc = GradientBoostingClassifier(n_estimators=300,\n",
        "\t\t\t\t\t\t\t\tlearning_rate=0.05,\n",
        "\t\t\t\t\t\t\t\trandom_state=100,\n",
        "\t\t\t\t\t\t\t\tmax_features=5 )\n",
        "# Fit to training set\n",
        "gbc.fit(train_X, train_y)\n",
        "\n",
        "# Predict on test set\n",
        "pred_y = gbc.predict(test_X)\n",
        "\n",
        "# accuracy\n",
        "acc = accuracy_score(test_y, pred_y)\n",
        "print(\"Gradient Boosting Classifier accuracy is : {:.2f}\".format(acc))\n"
      ]
    }
  ]
}